{
 "cells": [
  {
   "cell_type": "code",
   "execution_count": 2,
   "metadata": {},
   "outputs": [],
   "source": [
    "#Dependencies:\n",
    "import pandas as pd"
   ]
  },
  {
   "cell_type": "code",
   "execution_count": 3,
   "metadata": {},
   "outputs": [],
   "source": [
    "# Load in file\n",
    "olympic_data = \"olympic_data.csv\""
   ]
  },
  {
   "cell_type": "code",
   "execution_count": 4,
   "metadata": {},
   "outputs": [
    {
     "data": {
      "text/html": [
       "<div>\n",
       "<style scoped>\n",
       "    .dataframe tbody tr th:only-of-type {\n",
       "        vertical-align: middle;\n",
       "    }\n",
       "\n",
       "    .dataframe tbody tr th {\n",
       "        vertical-align: top;\n",
       "    }\n",
       "\n",
       "    .dataframe thead th {\n",
       "        text-align: right;\n",
       "    }\n",
       "</style>\n",
       "<table border=\"1\" class=\"dataframe\">\n",
       "  <thead>\n",
       "    <tr style=\"text-align: right;\">\n",
       "      <th></th>\n",
       "      <th>Gender</th>\n",
       "      <th>Event</th>\n",
       "      <th>Location</th>\n",
       "      <th>Year</th>\n",
       "      <th>Medal</th>\n",
       "      <th>Name</th>\n",
       "      <th>Nationality</th>\n",
       "      <th>Result</th>\n",
       "    </tr>\n",
       "  </thead>\n",
       "  <tbody>\n",
       "    <tr>\n",
       "      <th>0</th>\n",
       "      <td>M</td>\n",
       "      <td>10000M Men</td>\n",
       "      <td>Stockholm</td>\n",
       "      <td>1912</td>\n",
       "      <td>G</td>\n",
       "      <td>Hannes KOLEHMAINEN</td>\n",
       "      <td>FIN</td>\n",
       "      <td>31:20.8</td>\n",
       "    </tr>\n",
       "    <tr>\n",
       "      <th>1</th>\n",
       "      <td>M</td>\n",
       "      <td>10000M Men</td>\n",
       "      <td>Stockholm</td>\n",
       "      <td>1912</td>\n",
       "      <td>S</td>\n",
       "      <td>Lewis TEWANIMA</td>\n",
       "      <td>USA</td>\n",
       "      <td>32:06.6</td>\n",
       "    </tr>\n",
       "    <tr>\n",
       "      <th>2</th>\n",
       "      <td>M</td>\n",
       "      <td>10000M Men</td>\n",
       "      <td>Stockholm</td>\n",
       "      <td>1912</td>\n",
       "      <td>B</td>\n",
       "      <td>Albin STENROOS</td>\n",
       "      <td>FIN</td>\n",
       "      <td>32:21.8</td>\n",
       "    </tr>\n",
       "    <tr>\n",
       "      <th>3</th>\n",
       "      <td>M</td>\n",
       "      <td>10000M Men</td>\n",
       "      <td>Antwerp</td>\n",
       "      <td>1920</td>\n",
       "      <td>G</td>\n",
       "      <td>Paavo NURMI</td>\n",
       "      <td>FIN</td>\n",
       "      <td>31:45.8</td>\n",
       "    </tr>\n",
       "    <tr>\n",
       "      <th>4</th>\n",
       "      <td>M</td>\n",
       "      <td>10000M Men</td>\n",
       "      <td>Antwerp</td>\n",
       "      <td>1920</td>\n",
       "      <td>S</td>\n",
       "      <td>Joseph GUILLEMOT</td>\n",
       "      <td>FRA</td>\n",
       "      <td>31:47.2</td>\n",
       "    </tr>\n",
       "  </tbody>\n",
       "</table>\n",
       "</div>"
      ],
      "text/plain": [
       "  Gender       Event   Location  Year Medal                Name Nationality  \\\n",
       "0      M  10000M Men  Stockholm  1912     G  Hannes KOLEHMAINEN         FIN   \n",
       "1      M  10000M Men  Stockholm  1912     S      Lewis TEWANIMA         USA   \n",
       "2      M  10000M Men  Stockholm  1912     B      Albin STENROOS         FIN   \n",
       "3      M  10000M Men    Antwerp  1920     G         Paavo NURMI         FIN   \n",
       "4      M  10000M Men    Antwerp  1920     S    Joseph GUILLEMOT         FRA   \n",
       "\n",
       "    Result  \n",
       "0  31:20.8  \n",
       "1  32:06.6  \n",
       "2  32:21.8  \n",
       "3  31:45.8  \n",
       "4  31:47.2  "
      ]
     },
     "execution_count": 4,
     "metadata": {},
     "output_type": "execute_result"
    }
   ],
   "source": [
    "# Read and display the CSV with Pandas\n",
    "olympic_data_df = pd.read_csv(olympic_data)\n",
    "olympic_data_df.head()"
   ]
  },
  {
   "cell_type": "code",
   "execution_count": 7,
   "metadata": {},
   "outputs": [],
   "source": [
    "# Create individual dataframes for each events\n",
    "m_highjump_df = olympic_data_df.loc[olympic_data_df[\"Event\"] == \"High Jump Men\"]\n",
    "w_highjump_df = olympic_data_df.loc[olympic_data_df[\"Event\"] == \"High Jump Women\"]\n",
    "m_discus_df = olympic_data_df.loc[olympic_data_df[\"Event\"] == \"Discus Throw Men\"]\n",
    "w_discus_df = olympic_data_df.loc[olympic_data_df[\"Event\"] == \"Discus Throw Women\"]\n",
    "m_100_df = olympic_data_df.loc[olympic_data_df[\"Event\"] == \"100M Men\"]\n",
    "w_100_df = olympic_data_df.loc[olympic_data_df[\"Event\"] == \"100M Women\"]\n",
    "m_10000_df = olympic_data_df.loc[olympic_data_df[\"Event\"] == \"10000M Men\"]\n",
    "w_10000_df = olympic_data_df.loc[olympic_data_df[\"Event\"] == \"10000M Women\"]\n",
    "m_800_df = olympic_data_df.loc[olympic_data_df[\"Event\"] == \"800M Men\"]\n",
    "w_800_df = olympic_data_df.loc[olympic_data_df[\"Event\"] == \"800M Women\"]\n"
   ]
  },
  {
   "cell_type": "code",
   "execution_count": null,
   "metadata": {},
   "outputs": [],
   "source": []
  },
  {
   "cell_type": "code",
   "execution_count": null,
   "metadata": {},
   "outputs": [],
   "source": []
  },
  {
   "cell_type": "code",
   "execution_count": null,
   "metadata": {},
   "outputs": [],
   "source": []
  },
  {
   "cell_type": "code",
   "execution_count": null,
   "metadata": {},
   "outputs": [],
   "source": []
  }
 ],
 "metadata": {
  "kernelspec": {
   "display_name": "Python 3",
   "language": "python",
   "name": "python3"
  },
  "language_info": {
   "codemirror_mode": {
    "name": "ipython",
    "version": 3
   },
   "file_extension": ".py",
   "mimetype": "text/x-python",
   "name": "python",
   "nbconvert_exporter": "python",
   "pygments_lexer": "ipython3",
   "version": "3.8.3"
  }
 },
 "nbformat": 4,
 "nbformat_minor": 4
}
