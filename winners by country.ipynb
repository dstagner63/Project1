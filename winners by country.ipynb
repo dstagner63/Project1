{
 "cells": [
  {
   "cell_type": "code",
   "execution_count": 36,
   "metadata": {},
   "outputs": [],
   "source": [
    "\n",
    "import pandas as pd\n",
    "import matplotlib.pyplot as plt\n",
    "import scipy.stats as sts\n",
    "import numpy as np\n",
    "import operator\n",
    "import seaborn as sns\n",
    "import matplotlib.pyplot as plt"
   ]
  },
  {
   "cell_type": "code",
   "execution_count": 37,
   "metadata": {},
   "outputs": [],
   "source": [
    "# Load in file\n",
    "olympic_data = \"olympic_data.csv\""
   ]
  },
  {
   "cell_type": "code",
   "execution_count": 38,
   "metadata": {},
   "outputs": [
    {
     "data": {
      "text/html": [
       "<div>\n",
       "<style scoped>\n",
       "    .dataframe tbody tr th:only-of-type {\n",
       "        vertical-align: middle;\n",
       "    }\n",
       "\n",
       "    .dataframe tbody tr th {\n",
       "        vertical-align: top;\n",
       "    }\n",
       "\n",
       "    .dataframe thead th {\n",
       "        text-align: right;\n",
       "    }\n",
       "</style>\n",
       "<table border=\"1\" class=\"dataframe\">\n",
       "  <thead>\n",
       "    <tr style=\"text-align: right;\">\n",
       "      <th></th>\n",
       "      <th>Gender</th>\n",
       "      <th>Event</th>\n",
       "      <th>Location</th>\n",
       "      <th>Year</th>\n",
       "      <th>Medal</th>\n",
       "      <th>Name</th>\n",
       "      <th>Nationality</th>\n",
       "      <th>Result</th>\n",
       "    </tr>\n",
       "  </thead>\n",
       "  <tbody>\n",
       "    <tr>\n",
       "      <th>0</th>\n",
       "      <td>M</td>\n",
       "      <td>10000M Men</td>\n",
       "      <td>Stockholm</td>\n",
       "      <td>1912</td>\n",
       "      <td>G</td>\n",
       "      <td>Hannes KOLEHMAINEN</td>\n",
       "      <td>FIN</td>\n",
       "      <td>31:20.8</td>\n",
       "    </tr>\n",
       "    <tr>\n",
       "      <th>1</th>\n",
       "      <td>M</td>\n",
       "      <td>10000M Men</td>\n",
       "      <td>Stockholm</td>\n",
       "      <td>1912</td>\n",
       "      <td>S</td>\n",
       "      <td>Lewis TEWANIMA</td>\n",
       "      <td>USA</td>\n",
       "      <td>32:06.6</td>\n",
       "    </tr>\n",
       "    <tr>\n",
       "      <th>2</th>\n",
       "      <td>M</td>\n",
       "      <td>10000M Men</td>\n",
       "      <td>Stockholm</td>\n",
       "      <td>1912</td>\n",
       "      <td>B</td>\n",
       "      <td>Albin STENROOS</td>\n",
       "      <td>FIN</td>\n",
       "      <td>32:21.8</td>\n",
       "    </tr>\n",
       "    <tr>\n",
       "      <th>3</th>\n",
       "      <td>M</td>\n",
       "      <td>10000M Men</td>\n",
       "      <td>Antwerp</td>\n",
       "      <td>1920</td>\n",
       "      <td>G</td>\n",
       "      <td>Paavo NURMI</td>\n",
       "      <td>FIN</td>\n",
       "      <td>31:45.8</td>\n",
       "    </tr>\n",
       "    <tr>\n",
       "      <th>4</th>\n",
       "      <td>M</td>\n",
       "      <td>10000M Men</td>\n",
       "      <td>Antwerp</td>\n",
       "      <td>1920</td>\n",
       "      <td>S</td>\n",
       "      <td>Joseph GUILLEMOT</td>\n",
       "      <td>FRA</td>\n",
       "      <td>31:47.2</td>\n",
       "    </tr>\n",
       "  </tbody>\n",
       "</table>\n",
       "</div>"
      ],
      "text/plain": [
       "  Gender       Event   Location  Year Medal                Name Nationality  \\\n",
       "0      M  10000M Men  Stockholm  1912     G  Hannes KOLEHMAINEN         FIN   \n",
       "1      M  10000M Men  Stockholm  1912     S      Lewis TEWANIMA         USA   \n",
       "2      M  10000M Men  Stockholm  1912     B      Albin STENROOS         FIN   \n",
       "3      M  10000M Men    Antwerp  1920     G         Paavo NURMI         FIN   \n",
       "4      M  10000M Men    Antwerp  1920     S    Joseph GUILLEMOT         FRA   \n",
       "\n",
       "    Result  \n",
       "0  31:20.8  \n",
       "1  32:06.6  \n",
       "2  32:21.8  \n",
       "3  31:45.8  \n",
       "4  31:47.2  "
      ]
     },
     "execution_count": 38,
     "metadata": {},
     "output_type": "execute_result"
    }
   ],
   "source": [
    "# Read and display the CSV with Pandas\n",
    "olympic_data_df = pd.read_csv(olympic_data)\n",
    "olympic_data_df.head()"
   ]
  },
  {
   "cell_type": "code",
   "execution_count": 39,
   "metadata": {},
   "outputs": [],
   "source": [
    "# Create individual dataframes for each events\n",
    "m_highjump_df = olympic_data_df.loc[olympic_data_df[\"Event\"] == \"High Jump Men\"]\n",
    "w_highjump_df = olympic_data_df.loc[olympic_data_df[\"Event\"] == \"High Jump Women\"]\n",
    "m_discus_df = olympic_data_df.loc[olympic_data_df[\"Event\"] == \"Discus Throw Men\"]\n",
    "w_discus_df = olympic_data_df.loc[olympic_data_df[\"Event\"] == \"Discus Throw Women\"]\n",
    "m_100_df = olympic_data_df.loc[olympic_data_df[\"Event\"] == \"100M Men\"]\n",
    "w_100_df = olympic_data_df.loc[olympic_data_df[\"Event\"] == \"100M Women\"]\n",
    "m_10000_df = olympic_data_df.loc[olympic_data_df[\"Event\"] == \"10000M Men\"]\n",
    "w_10000_df = olympic_data_df.loc[olympic_data_df[\"Event\"] == \"10000M Women\"]\n",
    "m_800_df = olympic_data_df.loc[olympic_data_df[\"Event\"] == \"800M Men\"]\n",
    "w_800_df = olympic_data_df.loc[olympic_data_df[\"Event\"] == \"800M Women\"]"
   ]
  },
  {
   "cell_type": "code",
   "execution_count": 80,
   "metadata": {},
   "outputs": [
    {
     "data": {
      "text/plain": [
       "<pandas.core.groupby.generic.DataFrameGroupBy object at 0x118d35460>"
      ]
     },
     "execution_count": 80,
     "metadata": {},
     "output_type": "execute_result"
    }
   ],
   "source": [
    "m_highjump_df.groupby(['revenue','session','user_id'])['user_id'].count()"
   ]
  },
  {
   "cell_type": "code",
   "execution_count": 84,
   "metadata": {},
   "outputs": [
    {
     "data": {
      "text/html": [
       "<div>\n",
       "<style scoped>\n",
       "    .dataframe tbody tr th:only-of-type {\n",
       "        vertical-align: middle;\n",
       "    }\n",
       "\n",
       "    .dataframe tbody tr th {\n",
       "        vertical-align: top;\n",
       "    }\n",
       "\n",
       "    .dataframe thead th {\n",
       "        text-align: right;\n",
       "    }\n",
       "</style>\n",
       "<table border=\"1\" class=\"dataframe\">\n",
       "  <thead>\n",
       "    <tr style=\"text-align: right;\">\n",
       "      <th></th>\n",
       "      <th>Gender</th>\n",
       "      <th>Event</th>\n",
       "      <th>Location</th>\n",
       "      <th>Year</th>\n",
       "      <th>Medal</th>\n",
       "      <th>Name</th>\n",
       "      <th>Nationality</th>\n",
       "      <th>Result</th>\n",
       "    </tr>\n",
       "  </thead>\n",
       "  <tbody>\n",
       "    <tr>\n",
       "      <th>1733</th>\n",
       "      <td>M</td>\n",
       "      <td>High Jump Men</td>\n",
       "      <td>Athens</td>\n",
       "      <td>1896</td>\n",
       "      <td>G</td>\n",
       "      <td>Ellery CLARK</td>\n",
       "      <td>USA</td>\n",
       "      <td>1.81</td>\n",
       "    </tr>\n",
       "    <tr>\n",
       "      <th>1736</th>\n",
       "      <td>M</td>\n",
       "      <td>High Jump Men</td>\n",
       "      <td>Paris</td>\n",
       "      <td>1900</td>\n",
       "      <td>G</td>\n",
       "      <td>Irving BAXTER</td>\n",
       "      <td>USA</td>\n",
       "      <td>1.9</td>\n",
       "    </tr>\n",
       "    <tr>\n",
       "      <th>1739</th>\n",
       "      <td>M</td>\n",
       "      <td>High Jump Men</td>\n",
       "      <td>St Louis</td>\n",
       "      <td>1904</td>\n",
       "      <td>G</td>\n",
       "      <td>Samuel JONES</td>\n",
       "      <td>USA</td>\n",
       "      <td>1.8</td>\n",
       "    </tr>\n",
       "    <tr>\n",
       "      <th>1742</th>\n",
       "      <td>M</td>\n",
       "      <td>High Jump Men</td>\n",
       "      <td>London</td>\n",
       "      <td>1908</td>\n",
       "      <td>G</td>\n",
       "      <td>Harry PORTER</td>\n",
       "      <td>USA</td>\n",
       "      <td>1.9</td>\n",
       "    </tr>\n",
       "    <tr>\n",
       "      <th>1746</th>\n",
       "      <td>M</td>\n",
       "      <td>High Jump Men</td>\n",
       "      <td>Stockholm</td>\n",
       "      <td>1912</td>\n",
       "      <td>G</td>\n",
       "      <td>Alma RICHARDS</td>\n",
       "      <td>USA</td>\n",
       "      <td>1.93</td>\n",
       "    </tr>\n",
       "    <tr>\n",
       "      <th>1749</th>\n",
       "      <td>M</td>\n",
       "      <td>High Jump Men</td>\n",
       "      <td>Paris</td>\n",
       "      <td>1924</td>\n",
       "      <td>G</td>\n",
       "      <td>Harold OSBORN</td>\n",
       "      <td>USA</td>\n",
       "      <td>1.98</td>\n",
       "    </tr>\n",
       "    <tr>\n",
       "      <th>1752</th>\n",
       "      <td>M</td>\n",
       "      <td>High Jump Men</td>\n",
       "      <td>Los Angeles</td>\n",
       "      <td>1932</td>\n",
       "      <td>G</td>\n",
       "      <td>Duncan MCNAUGHTON</td>\n",
       "      <td>CAN</td>\n",
       "      <td>1.97</td>\n",
       "    </tr>\n",
       "    <tr>\n",
       "      <th>1755</th>\n",
       "      <td>M</td>\n",
       "      <td>High Jump Men</td>\n",
       "      <td>Helsinki</td>\n",
       "      <td>1952</td>\n",
       "      <td>G</td>\n",
       "      <td>Walt DAVIS</td>\n",
       "      <td>USA</td>\n",
       "      <td>2.04</td>\n",
       "    </tr>\n",
       "    <tr>\n",
       "      <th>1758</th>\n",
       "      <td>M</td>\n",
       "      <td>High Jump Men</td>\n",
       "      <td>Rome</td>\n",
       "      <td>1960</td>\n",
       "      <td>G</td>\n",
       "      <td>Robert SHAVLAKADZE</td>\n",
       "      <td>URS</td>\n",
       "      <td>2.16</td>\n",
       "    </tr>\n",
       "    <tr>\n",
       "      <th>1761</th>\n",
       "      <td>M</td>\n",
       "      <td>High Jump Men</td>\n",
       "      <td>Tokyo</td>\n",
       "      <td>1964</td>\n",
       "      <td>G</td>\n",
       "      <td>Valeri BRUMEL</td>\n",
       "      <td>URS</td>\n",
       "      <td>2.18</td>\n",
       "    </tr>\n",
       "    <tr>\n",
       "      <th>1764</th>\n",
       "      <td>M</td>\n",
       "      <td>High Jump Men</td>\n",
       "      <td>Montreal</td>\n",
       "      <td>1976</td>\n",
       "      <td>G</td>\n",
       "      <td>Jacek WSZOLA</td>\n",
       "      <td>POL</td>\n",
       "      <td>2.25</td>\n",
       "    </tr>\n",
       "    <tr>\n",
       "      <th>1767</th>\n",
       "      <td>M</td>\n",
       "      <td>High Jump Men</td>\n",
       "      <td>Moscow</td>\n",
       "      <td>1980</td>\n",
       "      <td>G</td>\n",
       "      <td>Gerd WESSIG</td>\n",
       "      <td>GDR</td>\n",
       "      <td>2.36</td>\n",
       "    </tr>\n",
       "    <tr>\n",
       "      <th>1770</th>\n",
       "      <td>M</td>\n",
       "      <td>High Jump Men</td>\n",
       "      <td>Barcelona</td>\n",
       "      <td>1992</td>\n",
       "      <td>G</td>\n",
       "      <td>Javier SOTOMAYOR</td>\n",
       "      <td>CUB</td>\n",
       "      <td>2.34</td>\n",
       "    </tr>\n",
       "    <tr>\n",
       "      <th>1775</th>\n",
       "      <td>M</td>\n",
       "      <td>High Jump Men</td>\n",
       "      <td>Atlanta</td>\n",
       "      <td>1996</td>\n",
       "      <td>G</td>\n",
       "      <td>Charles AUSTIN</td>\n",
       "      <td>USA</td>\n",
       "      <td>2.39</td>\n",
       "    </tr>\n",
       "    <tr>\n",
       "      <th>1778</th>\n",
       "      <td>M</td>\n",
       "      <td>High Jump Men</td>\n",
       "      <td>Sydney</td>\n",
       "      <td>2000</td>\n",
       "      <td>G</td>\n",
       "      <td>Sergey KLYUGIN</td>\n",
       "      <td>RUS</td>\n",
       "      <td>2.35</td>\n",
       "    </tr>\n",
       "    <tr>\n",
       "      <th>1781</th>\n",
       "      <td>M</td>\n",
       "      <td>High Jump Men</td>\n",
       "      <td>Athens</td>\n",
       "      <td>2004</td>\n",
       "      <td>G</td>\n",
       "      <td>Stefan HOLM</td>\n",
       "      <td>SWE</td>\n",
       "      <td>2.36</td>\n",
       "    </tr>\n",
       "    <tr>\n",
       "      <th>1784</th>\n",
       "      <td>M</td>\n",
       "      <td>High Jump Men</td>\n",
       "      <td>Beijing</td>\n",
       "      <td>2008</td>\n",
       "      <td>G</td>\n",
       "      <td>Andrey SILNOV</td>\n",
       "      <td>RUS</td>\n",
       "      <td>2.36</td>\n",
       "    </tr>\n",
       "    <tr>\n",
       "      <th>1787</th>\n",
       "      <td>M</td>\n",
       "      <td>High Jump Men</td>\n",
       "      <td>London</td>\n",
       "      <td>2012</td>\n",
       "      <td>G</td>\n",
       "      <td>Ivan UKHOV</td>\n",
       "      <td>RUS</td>\n",
       "      <td>2.38</td>\n",
       "    </tr>\n",
       "    <tr>\n",
       "      <th>1792</th>\n",
       "      <td>M</td>\n",
       "      <td>High Jump Men</td>\n",
       "      <td>Rio</td>\n",
       "      <td>2016</td>\n",
       "      <td>G</td>\n",
       "      <td>Derek DROUIN</td>\n",
       "      <td>CAN</td>\n",
       "      <td>2.38</td>\n",
       "    </tr>\n",
       "  </tbody>\n",
       "</table>\n",
       "</div>"
      ],
      "text/plain": [
       "     Gender          Event     Location  Year Medal                Name  \\\n",
       "1733      M  High Jump Men       Athens  1896     G        Ellery CLARK   \n",
       "1736      M  High Jump Men        Paris  1900     G       Irving BAXTER   \n",
       "1739      M  High Jump Men     St Louis  1904     G        Samuel JONES   \n",
       "1742      M  High Jump Men       London  1908     G        Harry PORTER   \n",
       "1746      M  High Jump Men    Stockholm  1912     G       Alma RICHARDS   \n",
       "1749      M  High Jump Men        Paris  1924     G       Harold OSBORN   \n",
       "1752      M  High Jump Men  Los Angeles  1932     G   Duncan MCNAUGHTON   \n",
       "1755      M  High Jump Men     Helsinki  1952     G          Walt DAVIS   \n",
       "1758      M  High Jump Men         Rome  1960     G  Robert SHAVLAKADZE   \n",
       "1761      M  High Jump Men        Tokyo  1964     G       Valeri BRUMEL   \n",
       "1764      M  High Jump Men     Montreal  1976     G        Jacek WSZOLA   \n",
       "1767      M  High Jump Men       Moscow  1980     G         Gerd WESSIG   \n",
       "1770      M  High Jump Men    Barcelona  1992     G    Javier SOTOMAYOR   \n",
       "1775      M  High Jump Men      Atlanta  1996     G      Charles AUSTIN   \n",
       "1778      M  High Jump Men       Sydney  2000     G      Sergey KLYUGIN   \n",
       "1781      M  High Jump Men       Athens  2004     G         Stefan HOLM   \n",
       "1784      M  High Jump Men      Beijing  2008     G       Andrey SILNOV   \n",
       "1787      M  High Jump Men       London  2012     G          Ivan UKHOV   \n",
       "1792      M  High Jump Men          Rio  2016     G        Derek DROUIN   \n",
       "\n",
       "     Nationality Result  \n",
       "1733         USA   1.81  \n",
       "1736         USA    1.9  \n",
       "1739         USA    1.8  \n",
       "1742         USA    1.9  \n",
       "1746         USA   1.93  \n",
       "1749         USA   1.98  \n",
       "1752         CAN   1.97  \n",
       "1755         USA   2.04  \n",
       "1758         URS   2.16  \n",
       "1761         URS   2.18  \n",
       "1764         POL   2.25  \n",
       "1767         GDR   2.36  \n",
       "1770         CUB   2.34  \n",
       "1775         USA   2.39  \n",
       "1778         RUS   2.35  \n",
       "1781         SWE   2.36  \n",
       "1784         RUS   2.36  \n",
       "1787         RUS   2.38  \n",
       "1792         CAN   2.38  "
      ]
     },
     "execution_count": 84,
     "metadata": {},
     "output_type": "execute_result"
    }
   ],
   "source": [
    "m_highjump_winner = m_highjump_df.loc[m_highjump_df[\"Medal\"] == \"G\"]\n",
    "hj_winner.groupby(['Year', 'Nationality'])['Nationality'].count()\n",
    "m_highjump_winner.append"
   ]
  },
  {
   "cell_type": "code",
   "execution_count": 72,
   "metadata": {},
   "outputs": [
    {
     "name": "stdout",
     "output_type": "stream",
     "text": [
      "   Year Nationality\n",
      "0  1912         FIN\n",
      "1  1912         USA\n",
      "2  1912         FIN\n",
      "3  1920         FIN\n",
      "4  1920         FRA\n"
     ]
    }
   ],
   "source": [
    "m_hj_winner = gapminder[['Year', 'Nationality']]\n",
    "print(hj_winner.head())"
   ]
  },
  {
   "cell_type": "code",
   "execution_count": 83,
   "metadata": {
    "scrolled": true
   },
   "outputs": [
    {
     "data": {
      "text/plain": [
       "Year  Nationality\n",
       "1896  AUS             2\n",
       "      FRA             2\n",
       "      GBR             2\n",
       "      GER             1\n",
       "      GRE            10\n",
       "                     ..\n",
       "2016  TTO             1\n",
       "      TUR             1\n",
       "      UKR             1\n",
       "      USA            33\n",
       "      VEN             1\n",
       "Name: Nationality, Length: 600, dtype: int64"
      ]
     },
     "execution_count": 83,
     "metadata": {},
     "output_type": "execute_result"
    }
   ],
   "source": [
    "hj_winner.groupby(['Year', 'Nationality'])['Nationality'].count()\n",
    "nationality_count=hj_winner.groupby(['Year', 'Nationality'])['Nationality'].count()"
   ]
  },
  {
   "cell_type": "code",
   "execution_count": 85,
   "metadata": {},
   "outputs": [
    {
     "ename": "KeyError",
     "evalue": "'nationality_count'",
     "output_type": "error",
     "traceback": [
      "\u001b[0;31m---------------------------------------------------------------------------\u001b[0m",
      "\u001b[0;31mKeyError\u001b[0m                                  Traceback (most recent call last)",
      "\u001b[0;32m<ipython-input-85-1412db5b81a4>\u001b[0m in \u001b[0;36m<module>\u001b[0;34m\u001b[0m\n\u001b[0;32m----> 1\u001b[0;31m heatmap1_data = pd.pivot_table(hj_winner, values='nationality_count', \n\u001b[0m\u001b[1;32m      2\u001b[0m                      \u001b[0mindex\u001b[0m\u001b[0;34m=\u001b[0m\u001b[0;34m[\u001b[0m\u001b[0;34m'Winnner Nationality'\u001b[0m\u001b[0;34m]\u001b[0m\u001b[0;34m,\u001b[0m\u001b[0;34m\u001b[0m\u001b[0;34m\u001b[0m\u001b[0m\n\u001b[1;32m      3\u001b[0m                      columns='Year')\n\u001b[1;32m      4\u001b[0m \u001b[0msns\u001b[0m\u001b[0;34m.\u001b[0m\u001b[0mheatmap\u001b[0m\u001b[0;34m(\u001b[0m\u001b[0mheatmap_hj_data\u001b[0m\u001b[0;34m,\u001b[0m \u001b[0mcmap\u001b[0m\u001b[0;34m=\u001b[0m\u001b[0;34m\"YlGnBu\"\u001b[0m\u001b[0;34m)\u001b[0m\u001b[0;34m\u001b[0m\u001b[0;34m\u001b[0m\u001b[0m\n",
      "\u001b[0;32m~/opt/anaconda3/lib/python3.8/site-packages/pandas/core/reshape/pivot.py\u001b[0m in \u001b[0;36mpivot_table\u001b[0;34m(data, values, index, columns, aggfunc, fill_value, margins, dropna, margins_name, observed)\u001b[0m\n\u001b[1;32m     75\u001b[0m         \u001b[0;32mfor\u001b[0m \u001b[0mi\u001b[0m \u001b[0;32min\u001b[0m \u001b[0mvalues\u001b[0m\u001b[0;34m:\u001b[0m\u001b[0;34m\u001b[0m\u001b[0;34m\u001b[0m\u001b[0m\n\u001b[1;32m     76\u001b[0m             \u001b[0;32mif\u001b[0m \u001b[0mi\u001b[0m \u001b[0;32mnot\u001b[0m \u001b[0;32min\u001b[0m \u001b[0mdata\u001b[0m\u001b[0;34m:\u001b[0m\u001b[0;34m\u001b[0m\u001b[0;34m\u001b[0m\u001b[0m\n\u001b[0;32m---> 77\u001b[0;31m                 \u001b[0;32mraise\u001b[0m \u001b[0mKeyError\u001b[0m\u001b[0;34m(\u001b[0m\u001b[0mi\u001b[0m\u001b[0;34m)\u001b[0m\u001b[0;34m\u001b[0m\u001b[0;34m\u001b[0m\u001b[0m\n\u001b[0m\u001b[1;32m     78\u001b[0m \u001b[0;34m\u001b[0m\u001b[0m\n\u001b[1;32m     79\u001b[0m         \u001b[0mto_filter\u001b[0m \u001b[0;34m=\u001b[0m \u001b[0;34m[\u001b[0m\u001b[0;34m]\u001b[0m\u001b[0;34m\u001b[0m\u001b[0;34m\u001b[0m\u001b[0m\n",
      "\u001b[0;31mKeyError\u001b[0m: 'nationality_count'"
     ]
    }
   ],
   "source": [
    "\n",
    "heatmap1_data = pd.pivot_table(hj_winner, values='nationality_count', \n",
    "                     index=['Winnner Nationality'], \n",
    "                     columns='Year')\n",
    "sns.heatmap(heatmap_hj_data, cmap=\"YlGnBu\")\n"
   ]
  },
  {
   "cell_type": "code",
   "execution_count": 40,
   "metadata": {},
   "outputs": [],
   "source": [
    "m_highjump_winner = m_highjump_df[\"Name\",\"Nationality\"]\n",
    "w_highjump_winner = w_highjump_df[\"Name\",\"Nationality\"]\n",
    "m_discus_winner = m_discus_df[\"Name\",\"Nationality\"]\n",
    "w_discus_winner = w_discus_df[\"Name\",\"Nationality\"]\n",
    "m_100_winner = m_100_df[\"Name\",\"Nationality\"]\n",
    "w_100_winner = w_100_df[\"Name\",\"Nationality\"]\n",
    "m_10000_winner = m_10000_df[\"Name\",\"Nationality\"]\n",
    "w_10000_winner = w_10000_df[\"Name\",\"Nationality\"]\n",
    "m_800_winner = m_800_df[\"Name\",\"Nationality\"]\n",
    "w_800_winner = w_800_df[\"Name\"][\"Nationality\"]\n"
   ]
  },
  {
   "cell_type": "code",
   "execution_count": 51,
   "metadata": {},
   "outputs": [
    {
     "name": "stdout",
     "output_type": "stream",
     "text": [
      "       country  year         pop continent  lifeExp   gdpPercap\n",
      "0  Afghanistan  1952   8425333.0      Asia   28.801  779.445314\n",
      "1  Afghanistan  1957   9240934.0      Asia   30.332  820.853030\n",
      "2  Afghanistan  1962  10267083.0      Asia   31.997  853.100710\n"
     ]
    }
   ],
   "source": [
    "data_url = 'http://bit.ly/2cLzoxH'\n",
    "gapminder = pd.read_csv(data_url)\n",
    "print(gapminder.head(3))"
   ]
  },
  {
   "cell_type": "code",
   "execution_count": 48,
   "metadata": {},
   "outputs": [
    {
     "name": "stdout",
     "output_type": "stream",
     "text": [
      "  continent  year  lifeExp\n",
      "0      Asia  1952   28.801\n",
      "1      Asia  1957   30.332\n",
      "2      Asia  1962   31.997\n",
      "3      Asia  1967   34.020\n",
      "4      Asia  1972   36.088\n"
     ]
    }
   ],
   "source": [
    "df1 = gapminder[['continent', 'year','lifeExp']]\n",
    "print(df1.head())"
   ]
  },
  {
   "cell_type": "code",
   "execution_count": 52,
   "metadata": {},
   "outputs": [
    {
     "data": {
      "text/plain": [
       "<matplotlib.axes._subplots.AxesSubplot at 0x118d35490>"
      ]
     },
     "execution_count": 52,
     "metadata": {},
     "output_type": "execute_result"
    },
    {
     "data": {
      "image/png": "[encoded data removed]",
      "text/plain": [
       "<Figure size 432x288 with 2 Axes>"
      ]
     },
     "metadata": {
      "needs_background": "light"
     },
     "output_type": "display_data"
    }
   ],
   "source": [
    "heatmap1_data = pd.pivot_table(df1, values='lifeExp', \n",
    "                     index=['continent'], \n",
    "                     columns='year')\n",
    "sns.heatmap(heatmap1_data, cmap=\"YlGnBu\")"
   ]
  },
  {
   "cell_type": "code",
   "execution_count": null,
   "metadata": {},
   "outputs": [],
   "source": []
  }
 ],
 "metadata": {
  "kernelspec": {
   "display_name": "Python 3",
   "language": "python",
   "name": "python3"
  },
  "language_info": {
   "codemirror_mode": {
    "name": "ipython",
    "version": 3
   },
   "file_extension": ".py",
   "mimetype": "text/x-python",
   "name": "python",
   "nbconvert_exporter": "python",
   "pygments_lexer": "ipython3",
   "version": "3.8.3"
  }
 },
 "nbformat": 4,
 "nbformat_minor": 4
}
